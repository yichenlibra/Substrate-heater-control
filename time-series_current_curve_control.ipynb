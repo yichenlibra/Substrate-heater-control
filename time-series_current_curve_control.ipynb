{
 "cells": [
  {
   "cell_type": "code",
   "execution_count": 21,
   "metadata": {},
   "outputs": [
    {
     "name": "stdout",
     "output_type": "stream",
     "text": [
      "Time = 10.01s  Voltage = 7.02V  Current = 0.97A         "
     ]
    }
   ],
   "source": [
    "import u3\n",
    "import matplotlib.pyplot as plt\n",
    "import sys\n",
    "import datetime\n",
    "import time\n",
    "\n",
    "d = u3.U3()\n",
    "d.configIO(FIOAnalog = 1101) \n",
    "data_t = []\n",
    "data_v = []\n",
    "voltage = []\n",
    "\n",
    "t = [0, 10]  \n",
    "current = [0.9, 1.0]\n",
    "for i in range(0,len(current)):\n",
    "    voltage = voltage + [current[i]/4.00]\n",
    "\n",
    "time.sleep(0)\n",
    "index = 1\n",
    "p = 0\n",
    "this_voltage = voltage[0]\n",
    "start_time = datetime.datetime.now()\n",
    "this_time = start_time\n",
    "while index < len(t):\n",
    "    time_in_date = datetime.datetime.now() - start_time\n",
    "    time_in_seconds = time_in_date.total_seconds()\n",
    "    time_passed = (datetime.datetime.now() - this_time).total_seconds()\n",
    "    this_time = datetime.datetime.now()\n",
    "    if (t[index] - time_in_seconds) < 0.01:\n",
    "        this_voltage = voltage[index]\n",
    "    else:\n",
    "        this_voltage = (voltage[index] - voltage[index-1])/(t[index] - t[index-1]) * time_passed + this_voltage\n",
    "    data_t = data_t + [(this_time - start_time).total_seconds()]\n",
    "    data_v = data_v + [d.getAIN(0)]\n",
    "    \n",
    "    d.writeRegister(5000, this_voltage)\n",
    "    if index < (len(t)) and time_in_seconds > t[index]:\n",
    "        index = index + 1\n",
    "    time.sleep(0.01)\n",
    "    if time_in_seconds > p:\n",
    "        sys.stdout.write('\\r'+'Time = %.2fs  Voltage = %.2fV  Current = %.2fA         ' %(time_in_seconds, 14*d.getAIN(3), 4*d.getAIN(2)))\n",
    "        p = p + 1  # 1 means time interval between data updates    \n"
   ]
  },
  {
   "cell_type": "code",
   "execution_count": null,
   "metadata": {},
   "outputs": [],
   "source": [
    "import u3\n",
    "import time\n",
    "d = u3.U3()\n",
    "d.configIO(FIOAnalog = 1101)\n",
    "I = 3.15\n",
    "d.writeRegister(5000, I/4.0)\n",
    "time.sleep(2)\n",
    "4 * d.getAIN(2) "
   ]
  },
  {
   "cell_type": "code",
   "execution_count": null,
   "metadata": {},
   "outputs": [],
   "source": [
    "import u3\n",
    "import time\n",
    "d = u3.U3()\n",
    "d.configIO(FIOAnalog = 1101) \n",
    "a = 4* d.getAIN(2)\n",
    "b = 14 * d.getAIN(3)\n",
    "print a, b, a*b, b/a"
   ]
  },
  {
   "cell_type": "code",
   "execution_count": null,
   "metadata": {},
   "outputs": [],
   "source": [
    "14 * d.getAIN(3)"
   ]
  },
  {
   "cell_type": "code",
   "execution_count": 5,
   "metadata": {},
   "outputs": [
    {
     "data": {
      "text/plain": [
       "0.009531136"
      ]
     },
     "execution_count": 5,
     "metadata": {},
     "output_type": "execute_result"
    }
   ],
   "source": [
    "d.getAIN(0)"
   ]
  },
  {
   "cell_type": "code",
   "execution_count": null,
   "metadata": {},
   "outputs": [],
   "source": [
    "\n",
    "t = [0, 1200, 1210, 6610, 6615]  \n",
    "current = [0.54, 1.84, 1.84, 3.84, 3.84]"
   ]
  }
 ],
 "metadata": {
  "kernelspec": {
   "display_name": "Python 2",
   "language": "python",
   "name": "python2"
  },
  "language_info": {
   "codemirror_mode": {
    "name": "ipython",
    "version": 2
   },
   "file_extension": ".py",
   "mimetype": "text/x-python",
   "name": "python",
   "nbconvert_exporter": "python",
   "pygments_lexer": "ipython2",
   "version": "2.7.14"
  }
 },
 "nbformat": 4,
 "nbformat_minor": 2
}
