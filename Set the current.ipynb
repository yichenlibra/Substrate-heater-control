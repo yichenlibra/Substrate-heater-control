{
 "cells": [
  {
   "cell_type": "code",
   "execution_count": 1,
   "metadata": {},
   "outputs": [
    {
     "ename": "LabJackException",
     "evalue": "LabJack is already open via USB in another program or process",
     "output_type": "error",
     "traceback": [
      "\u001b[1;31m\u001b[0m",
      "\u001b[1;31mLabJackException\u001b[0mTraceback (most recent call last)",
      "\u001b[1;32m<ipython-input-1-541b624cf46c>\u001b[0m in \u001b[0;36m<module>\u001b[1;34m()\u001b[0m\n\u001b[0;32m      1\u001b[0m \u001b[1;32mimport\u001b[0m \u001b[0mu3\u001b[0m\u001b[1;33m\u001b[0m\u001b[0m\n\u001b[0;32m      2\u001b[0m \u001b[1;32mimport\u001b[0m \u001b[0mtime\u001b[0m\u001b[1;33m\u001b[0m\u001b[0m\n\u001b[1;32m----> 3\u001b[1;33m \u001b[0md\u001b[0m\u001b[1;33m=\u001b[0m\u001b[0mu3\u001b[0m\u001b[1;33m.\u001b[0m\u001b[0mU3\u001b[0m\u001b[1;33m(\u001b[0m\u001b[1;33m)\u001b[0m\u001b[1;33m\u001b[0m\u001b[0m\n\u001b[0m\u001b[0;32m      4\u001b[0m \u001b[0md\u001b[0m\u001b[1;33m.\u001b[0m\u001b[0mconfigIO\u001b[0m\u001b[1;33m(\u001b[0m\u001b[0mFIOAnalog\u001b[0m \u001b[1;33m=\u001b[0m \u001b[1;36m1101\u001b[0m\u001b[1;33m)\u001b[0m\u001b[1;33m\u001b[0m\u001b[0m\n\u001b[0;32m      5\u001b[0m \u001b[0mI\u001b[0m \u001b[1;33m=\u001b[0m \u001b[0minput\u001b[0m\u001b[1;33m(\u001b[0m\u001b[1;34m'Current you want to apply:'\u001b[0m\u001b[1;33m)\u001b[0m\u001b[1;33m\u001b[0m\u001b[0m\n",
      "\u001b[1;32mC:\\Users\\RHEED\\Anaconda2\\lib\\site-packages\\u3.pyc\u001b[0m in \u001b[0;36m__init__\u001b[1;34m(self, debug, autoOpen, **kargs)\u001b[0m\n\u001b[0;32m     96\u001b[0m \u001b[1;33m\u001b[0m\u001b[0m\n\u001b[0;32m     97\u001b[0m         \u001b[1;32mif\u001b[0m \u001b[0mautoOpen\u001b[0m\u001b[1;33m:\u001b[0m\u001b[1;33m\u001b[0m\u001b[0m\n\u001b[1;32m---> 98\u001b[1;33m             \u001b[0mself\u001b[0m\u001b[1;33m.\u001b[0m\u001b[0mopen\u001b[0m\u001b[1;33m(\u001b[0m\u001b[1;33m**\u001b[0m\u001b[0mkargs\u001b[0m\u001b[1;33m)\u001b[0m\u001b[1;33m\u001b[0m\u001b[0m\n\u001b[0m\u001b[0;32m     99\u001b[0m     \u001b[0m__init__\u001b[0m\u001b[1;33m.\u001b[0m\u001b[0msection\u001b[0m \u001b[1;33m=\u001b[0m \u001b[1;36m1\u001b[0m\u001b[1;33m\u001b[0m\u001b[0m\n\u001b[0;32m    100\u001b[0m \u001b[1;33m\u001b[0m\u001b[0m\n",
      "\u001b[1;32mC:\\Users\\RHEED\\Anaconda2\\lib\\site-packages\\u3.pyc\u001b[0m in \u001b[0;36mopen\u001b[1;34m(self, firstFound, serial, localId, devNumber, handleOnly, LJSocket)\u001b[0m\n\u001b[0;32m    131\u001b[0m         \u001b[1;33m>>\u001b[0m\u001b[1;33m>\u001b[0m \u001b[0md\u001b[0m\u001b[1;33m.\u001b[0m\u001b[0mopen\u001b[0m\u001b[1;33m(\u001b[0m\u001b[0mLJSocket\u001b[0m \u001b[1;33m=\u001b[0m \u001b[1;34m\"localhost:6000\"\u001b[0m\u001b[1;33m)\u001b[0m\u001b[1;33m\u001b[0m\u001b[0m\n\u001b[0;32m    132\u001b[0m         \"\"\"\n\u001b[1;32m--> 133\u001b[1;33m         \u001b[0mDevice\u001b[0m\u001b[1;33m.\u001b[0m\u001b[0mopen\u001b[0m\u001b[1;33m(\u001b[0m\u001b[0mself\u001b[0m\u001b[1;33m,\u001b[0m \u001b[1;36m3\u001b[0m\u001b[1;33m,\u001b[0m \u001b[0mfirstFound\u001b[0m \u001b[1;33m=\u001b[0m \u001b[0mfirstFound\u001b[0m\u001b[1;33m,\u001b[0m \u001b[0mserial\u001b[0m \u001b[1;33m=\u001b[0m \u001b[0mserial\u001b[0m\u001b[1;33m,\u001b[0m \u001b[0mlocalId\u001b[0m \u001b[1;33m=\u001b[0m \u001b[0mlocalId\u001b[0m\u001b[1;33m,\u001b[0m \u001b[0mdevNumber\u001b[0m \u001b[1;33m=\u001b[0m \u001b[0mdevNumber\u001b[0m\u001b[1;33m,\u001b[0m \u001b[0mhandleOnly\u001b[0m \u001b[1;33m=\u001b[0m \u001b[0mhandleOnly\u001b[0m\u001b[1;33m,\u001b[0m \u001b[0mLJSocket\u001b[0m \u001b[1;33m=\u001b[0m \u001b[0mLJSocket\u001b[0m \u001b[1;33m)\u001b[0m\u001b[1;33m\u001b[0m\u001b[0m\n\u001b[0m\u001b[0;32m    134\u001b[0m     \u001b[0mopen\u001b[0m\u001b[1;33m.\u001b[0m\u001b[0msection\u001b[0m \u001b[1;33m=\u001b[0m \u001b[1;36m1\u001b[0m\u001b[1;33m\u001b[0m\u001b[0m\n\u001b[0;32m    135\u001b[0m \u001b[1;33m\u001b[0m\u001b[0m\n",
      "\u001b[1;32mC:\\Users\\RHEED\\Anaconda2\\lib\\site-packages\\LabJackPython.pyc\u001b[0m in \u001b[0;36mopen\u001b[1;34m(self, devType, Ethernet, firstFound, serial, localId, devNumber, ipAddress, handleOnly, LJSocket)\u001b[0m\n\u001b[0;32m    637\u001b[0m             \u001b[0md\u001b[0m \u001b[1;33m=\u001b[0m \u001b[0mopenLabJack\u001b[0m\u001b[1;33m(\u001b[0m\u001b[0mdevType\u001b[0m\u001b[1;33m,\u001b[0m \u001b[0mct\u001b[0m\u001b[1;33m,\u001b[0m \u001b[0mhandleOnly\u001b[0m \u001b[1;33m=\u001b[0m \u001b[0mhandleOnly\u001b[0m\u001b[1;33m,\u001b[0m \u001b[0mLJSocket\u001b[0m \u001b[1;33m=\u001b[0m \u001b[0mLJSocket\u001b[0m\u001b[1;33m)\u001b[0m\u001b[1;33m\u001b[0m\u001b[0m\n\u001b[0;32m    638\u001b[0m         \u001b[1;32melif\u001b[0m \u001b[0mfirstFound\u001b[0m\u001b[1;33m:\u001b[0m\u001b[1;33m\u001b[0m\u001b[0m\n\u001b[1;32m--> 639\u001b[1;33m             \u001b[0md\u001b[0m \u001b[1;33m=\u001b[0m \u001b[0mopenLabJack\u001b[0m\u001b[1;33m(\u001b[0m\u001b[0mdevType\u001b[0m\u001b[1;33m,\u001b[0m \u001b[0mct\u001b[0m\u001b[1;33m,\u001b[0m \u001b[0mfirstFound\u001b[0m \u001b[1;33m=\u001b[0m \u001b[0mTrue\u001b[0m\u001b[1;33m,\u001b[0m \u001b[0mhandleOnly\u001b[0m \u001b[1;33m=\u001b[0m \u001b[0mhandleOnly\u001b[0m\u001b[1;33m,\u001b[0m \u001b[0mLJSocket\u001b[0m \u001b[1;33m=\u001b[0m \u001b[0mLJSocket\u001b[0m\u001b[1;33m)\u001b[0m\u001b[1;33m\u001b[0m\u001b[0m\n\u001b[0m\u001b[0;32m    640\u001b[0m         \u001b[1;32melse\u001b[0m\u001b[1;33m:\u001b[0m\u001b[1;33m\u001b[0m\u001b[0m\n\u001b[0;32m    641\u001b[0m             \u001b[1;32mraise\u001b[0m \u001b[0mLabJackException\u001b[0m\u001b[1;33m(\u001b[0m\u001b[1;34m\"You must use first found, or give a localId, devNumber, or IP Address\"\u001b[0m\u001b[1;33m)\u001b[0m\u001b[1;33m\u001b[0m\u001b[0m\n",
      "\u001b[1;32mC:\\Users\\RHEED\\Anaconda2\\lib\\site-packages\\LabJackPython.pyc\u001b[0m in \u001b[0;36mopenLabJack\u001b[1;34m(deviceType, connectionType, firstFound, pAddress, devNumber, handleOnly, LJSocket)\u001b[0m\n\u001b[0;32m   1476\u001b[0m             \u001b[0mhandle\u001b[0m \u001b[1;33m=\u001b[0m \u001b[0mctypes\u001b[0m\u001b[1;33m.\u001b[0m\u001b[0mc_void_p\u001b[0m\u001b[1;33m(\u001b[0m\u001b[0mhandle\u001b[0m\u001b[1;33m)\u001b[0m\u001b[1;33m\u001b[0m\u001b[0m\n\u001b[0;32m   1477\u001b[0m         \u001b[1;32melif\u001b[0m \u001b[0mstaticLib\u001b[0m \u001b[1;32mis\u001b[0m \u001b[1;32mnot\u001b[0m \u001b[0mNone\u001b[0m\u001b[1;33m:\u001b[0m\u001b[1;33m\u001b[0m\u001b[0m\n\u001b[1;32m-> 1478\u001b[1;33m             \u001b[0mhandle\u001b[0m \u001b[1;33m=\u001b[0m \u001b[0m_openLabJackUsingUDDriver\u001b[0m\u001b[1;33m(\u001b[0m\u001b[0mdeviceType\u001b[0m\u001b[1;33m,\u001b[0m \u001b[0mconnectionType\u001b[0m\u001b[1;33m,\u001b[0m \u001b[0mfirstFound\u001b[0m\u001b[1;33m,\u001b[0m \u001b[0mpAddress\u001b[0m\u001b[1;33m,\u001b[0m \u001b[0mdevNumber\u001b[0m \u001b[1;33m)\u001b[0m\u001b[1;33m\u001b[0m\u001b[0m\n\u001b[0m\u001b[0;32m   1479\u001b[0m     \u001b[1;32melif\u001b[0m \u001b[0mconnectionType\u001b[0m \u001b[1;33m==\u001b[0m \u001b[0mLJ_ctETHERNET\u001b[0m \u001b[1;32mand\u001b[0m \u001b[0mdeviceType\u001b[0m \u001b[1;33m==\u001b[0m \u001b[0mLJ_dtUE9\u001b[0m \u001b[1;33m:\u001b[0m\u001b[1;33m\u001b[0m\u001b[0m\n\u001b[0;32m   1480\u001b[0m         \u001b[0mhandle\u001b[0m \u001b[1;33m=\u001b[0m \u001b[0m_openUE9OverEthernet\u001b[0m\u001b[1;33m(\u001b[0m\u001b[0mfirstFound\u001b[0m\u001b[1;33m,\u001b[0m \u001b[0mpAddress\u001b[0m\u001b[1;33m,\u001b[0m \u001b[0mdevNumber\u001b[0m\u001b[1;33m)\u001b[0m\u001b[1;33m\u001b[0m\u001b[0m\n",
      "\u001b[1;32mC:\\Users\\RHEED\\Anaconda2\\lib\\site-packages\\LabJackPython.pyc\u001b[0m in \u001b[0;36m_openLabJackUsingUDDriver\u001b[1;34m(deviceType, connectionType, firstFound, pAddress, devNumber)\u001b[0m\n\u001b[0;32m   1318\u001b[0m     \u001b[1;31m#Warnings return a valid device handle.\u001b[0m\u001b[1;33m\u001b[0m\u001b[1;33m\u001b[0m\u001b[0m\n\u001b[0;32m   1319\u001b[0m     \u001b[1;32mif\u001b[0m \u001b[0mec\u001b[0m \u001b[1;33m>\u001b[0m \u001b[1;36m0\u001b[0m\u001b[1;33m:\u001b[0m\u001b[1;33m\u001b[0m\u001b[0m\n\u001b[1;32m-> 1320\u001b[1;33m         \u001b[1;32mraise\u001b[0m \u001b[0mLabJackException\u001b[0m\u001b[1;33m(\u001b[0m\u001b[0mec\u001b[0m\u001b[1;33m)\u001b[0m\u001b[1;33m\u001b[0m\u001b[0m\n\u001b[0m\u001b[0;32m   1321\u001b[0m     \u001b[1;32mif\u001b[0m \u001b[0mec\u001b[0m \u001b[1;33m<\u001b[0m \u001b[1;36m0\u001b[0m\u001b[1;33m:\u001b[0m\u001b[1;33m\u001b[0m\u001b[0m\n\u001b[0;32m   1322\u001b[0m         \u001b[1;32mprint\u001b[0m \u001b[1;34m\"Warning: \"\u001b[0m \u001b[1;33m+\u001b[0m \u001b[0mstr\u001b[0m\u001b[1;33m(\u001b[0m\u001b[0mLabJackException\u001b[0m\u001b[1;33m(\u001b[0m\u001b[0mec\u001b[0m\u001b[1;33m)\u001b[0m\u001b[1;33m)\u001b[0m\u001b[1;33m\u001b[0m\u001b[0m\n",
      "\u001b[1;31mLabJackException\u001b[0m: LabJack is already open via USB in another program or process"
     ]
    }
   ],
   "source": [
    "import u3\n",
    "import time\n",
    "d=u3.U3()\n",
    "d.configIO(FIOAnalog = 1101) \n",
    "I = input('Current you want to apply:')\n",
    "V = I/4\n",
    "d.writeRegister(5000, V)  \n",
    "\n",
    "time.sleep(2)\n",
    "\n",
    "b = 4 * d.getAIN(2)\n",
    "c = 14 * d.getAIN(3)\n",
    "print 'Current is', b\n",
    "print 'Voltage is', c"
   ]
  },
  {
   "cell_type": "code",
   "execution_count": 30,
   "metadata": {},
   "outputs": [
    {
     "name": "stdout",
     "output_type": "stream",
     "text": [
      "Current is 1.808533056\n",
      "Voltage is 22.35051392\n"
     ]
    }
   ],
   "source": [
    "b = 4 * d.getAIN(2)\n",
    "c = 14 * d.getAIN(3)\n",
    "print 'Current is', b\n",
    "print 'Voltage is', c"
   ]
  },
  {
   "cell_type": "code",
   "execution_count": null,
   "metadata": {},
   "outputs": [],
   "source": []
  }
 ],
 "metadata": {
  "kernelspec": {
   "display_name": "Python 2",
   "language": "python",
   "name": "python2"
  },
  "language_info": {
   "codemirror_mode": {
    "name": "ipython",
    "version": 2
   },
   "file_extension": ".py",
   "mimetype": "text/x-python",
   "name": "python",
   "nbconvert_exporter": "python",
   "pygments_lexer": "ipython2",
   "version": "2.7.14"
  }
 },
 "nbformat": 4,
 "nbformat_minor": 2
}
