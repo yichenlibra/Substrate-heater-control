{
 "cells": [
  {
   "cell_type": "code",
   "execution_count": 10,
   "metadata": {},
   "outputs": [
    {
     "name": "stdout",
     "output_type": "stream",
     "text": [
      "Current you want to apply:0.65\n",
      "Current is 0.626672192\n",
      "Voltage is 8.9652248\n"
     ]
    }
   ],
   "source": [
    "import u3\n",
    "import time\n",
    "d=u3.U3()\n",
    "d.configIO(FIOAnalog = 1101) \n",
    "I = input('Current you want to apply:')\n",
    "V = I/4\n",
    "d.writeRegister(5000, V)  \n",
    "\n",
    "time.sleep(2)\n",
    "\n",
    "b = 4 * d.getAIN(2)\n",
    "c = 14 * d.getAIN(3)\n",
    "print 'Current is', b\n",
    "print 'Voltage is', c"
   ]
  },
  {
   "cell_type": "code",
   "execution_count": 15,
   "metadata": {},
   "outputs": [
    {
     "name": "stdout",
     "output_type": "stream",
     "text": [
      "Current is 0.629054976\n",
      "Voltage is 8.815109408\n"
     ]
    }
   ],
   "source": [
    "b = 4 * d.getAIN(2)\n",
    "c = 14 * d.getAIN(3)\n",
    "print 'Current is', b\n",
    "print 'Voltage is', c"
   ]
  },
  {
   "cell_type": "code",
   "execution_count": null,
   "metadata": {},
   "outputs": [],
   "source": []
  }
 ],
 "metadata": {
  "kernelspec": {
   "display_name": "Python 2",
   "language": "python",
   "name": "python2"
  },
  "language_info": {
   "codemirror_mode": {
    "name": "ipython",
    "version": 2
   },
   "file_extension": ".py",
   "mimetype": "text/x-python",
   "name": "python",
   "nbconvert_exporter": "python",
   "pygments_lexer": "ipython2",
   "version": "2.7.14"
  }
 },
 "nbformat": 4,
 "nbformat_minor": 2
}
