{
 "cells": [
  {
   "cell_type": "code",
   "execution_count": 1,
   "metadata": {},
   "outputs": [
    {
     "name": "stdout",
     "output_type": "stream",
     "text": [
      "Input I1 (<9.76 A):1.0\n",
      "Input I2 (<9.76 A):2.23\n",
      "Input I_anneal (<9.76 A):1.25\n",
      "Input ramp time to 650 C:300\n",
      "Input time stay at 650 C:60\n",
      "Input ramp time from 650 C to 1300 C:65\n",
      "Input time stay at 1300 C:30\n",
      "Input ramp time from 1300 C to 650 C:30\n",
      "Input ramp time from 650 C to anneal temperature:200\n",
      "Annealing time:1800\n",
      "Input cool down time:600\n",
      "How many cycles do you want to run?45\n",
      "Time = 512.00s  Voltage = 4.09V  Current = 0.96A          "
     ]
    },
    {
     "ename": "KeyboardInterrupt",
     "evalue": "",
     "output_type": "error",
     "traceback": [
      "\u001b[1;31m---------------------------------------------------------------------------\u001b[0m",
      "\u001b[1;31mKeyboardInterrupt\u001b[0m                         Traceback (most recent call last)",
      "\u001b[1;32m<ipython-input-1-a1541427077c>\u001b[0m in \u001b[0;36m<module>\u001b[1;34m()\u001b[0m\n\u001b[0;32m     64\u001b[0m     \u001b[1;32mif\u001b[0m \u001b[0mindex\u001b[0m \u001b[1;33m<\u001b[0m \u001b[1;33m(\u001b[0m\u001b[0mlen\u001b[0m\u001b[1;33m(\u001b[0m\u001b[0mt\u001b[0m\u001b[1;33m)\u001b[0m\u001b[1;33m)\u001b[0m \u001b[1;32mand\u001b[0m \u001b[0mtime_in_seconds\u001b[0m \u001b[1;33m>\u001b[0m \u001b[0mt\u001b[0m\u001b[1;33m[\u001b[0m\u001b[0mindex\u001b[0m\u001b[1;33m]\u001b[0m\u001b[1;33m:\u001b[0m\u001b[1;33m\u001b[0m\u001b[0m\n\u001b[0;32m     65\u001b[0m         \u001b[0mindex\u001b[0m \u001b[1;33m=\u001b[0m \u001b[0mindex\u001b[0m \u001b[1;33m+\u001b[0m \u001b[1;36m1\u001b[0m\u001b[1;33m\u001b[0m\u001b[0m\n\u001b[1;32m---> 66\u001b[1;33m     \u001b[0mtime\u001b[0m\u001b[1;33m.\u001b[0m\u001b[0msleep\u001b[0m\u001b[1;33m(\u001b[0m\u001b[1;36m0.009\u001b[0m\u001b[1;33m)\u001b[0m\u001b[1;33m\u001b[0m\u001b[0m\n\u001b[0m\u001b[0;32m     67\u001b[0m     \u001b[1;32mif\u001b[0m \u001b[0mtime_in_seconds\u001b[0m \u001b[1;33m>\u001b[0m \u001b[0mp\u001b[0m\u001b[1;33m:\u001b[0m\u001b[1;33m\u001b[0m\u001b[0m\n\u001b[0;32m     68\u001b[0m         \u001b[0msys\u001b[0m\u001b[1;33m.\u001b[0m\u001b[0mstdout\u001b[0m\u001b[1;33m.\u001b[0m\u001b[0mwrite\u001b[0m\u001b[1;33m(\u001b[0m\u001b[1;34m'\\r'\u001b[0m\u001b[1;33m+\u001b[0m\u001b[1;34m'Time = %.2fs  Voltage = %.2fV  Current = %.2fA         '\u001b[0m \u001b[1;33m%\u001b[0m\u001b[1;33m(\u001b[0m\u001b[0mtime_in_seconds\u001b[0m\u001b[1;33m,\u001b[0m \u001b[1;36m14\u001b[0m\u001b[1;33m*\u001b[0m\u001b[0md\u001b[0m\u001b[1;33m.\u001b[0m\u001b[0mgetAIN\u001b[0m\u001b[1;33m(\u001b[0m\u001b[1;36m3\u001b[0m\u001b[1;33m)\u001b[0m\u001b[1;33m,\u001b[0m \u001b[1;36m4\u001b[0m\u001b[1;33m*\u001b[0m\u001b[0md\u001b[0m\u001b[1;33m.\u001b[0m\u001b[0mgetAIN\u001b[0m\u001b[1;33m(\u001b[0m\u001b[1;36m2\u001b[0m\u001b[1;33m)\u001b[0m\u001b[1;33m)\u001b[0m\u001b[1;33m)\u001b[0m\u001b[1;33m\u001b[0m\u001b[0m\n",
      "\u001b[1;31mKeyboardInterrupt\u001b[0m: "
     ]
    }
   ],
   "source": [
    "import datetime\n",
    "import time\n",
    "import u3\n",
    "import matplotlib.pyplot as plt\n",
    "import sys\n",
    "\n",
    "d = u3.U3()\n",
    "d.configIO(FIOAnalog = 1101) \n",
    "data_t = []\n",
    "data_v = []\n",
    "\n",
    "'''\n",
    "See definition of t1 - t7, I1, I2 in 'Graphene heater program diagram' \n",
    "\n",
    "'''\n",
    "\n",
    "I1 = input(\"Input I1 (<9.76 A):\")\n",
    "I2 = input(\"Input I2 (<9.76 A):\")\n",
    "I_anneal = input(\"Input I_anneal (<9.76 A):\")\n",
    "V1 = I1/4\n",
    "V2 = I2/4\n",
    "V_anneal = I_anneal/4\n",
    "\n",
    "t1 = input(\"Input ramp time to 650 C:\")\n",
    "t2 = input(\"Input time stay at 650 C:\")\n",
    "t3 = input(\"Input ramp time from 650 C to 1300 C:\")\n",
    "t4 = input(\"Input time stay at 1300 C:\")\n",
    "t5 = input(\"Input ramp time from 1300 C to 650 C:\")\n",
    "t6 = input(\"Input ramp time from 650 C to anneal temperature:\")\n",
    "t_anneal = input('Annealing time:')\n",
    "t7 = input(\"Input cool down time:\")\n",
    "\n",
    "cycle = input(\"How many cycles do you want to run?\")\n",
    "\n",
    "t = [0, t1]      \n",
    "voltage = [0.0]\n",
    "T_period = t2 + t3 + t4 + t5\n",
    "for i in range(cycle): \n",
    "    t = t + [ T_period * i+t1+t2, T_period * i+t1+t2+t3, T_period * i+t1+t2+t3+t4, T_period * i+t1+T_period]\n",
    "    \n",
    "t = t + [t[-1]+ t6, t[-1]+ t6 + t_anneal , t[-1]+ t6 + t_anneal + t7]\n",
    "voltage = voltage + [V1, V1, V2, V2]* cycle + [V1, V_anneal, V_anneal, 0]\n",
    "\n",
    "time.sleep(0)\n",
    "\n",
    "index = 1\n",
    "p = 0\n",
    "this_voltage = voltage[0]\n",
    "start_time = datetime.datetime.now()\n",
    "this_time = start_time\n",
    "while index < len(t):\n",
    "    time_in_date = datetime.datetime.now() - start_time\n",
    "    time_in_seconds = time_in_date.total_seconds()\n",
    "    time_passed = (datetime.datetime.now() - this_time).total_seconds()\n",
    "    this_time = datetime.datetime.now()\n",
    "    if (t[index] - time_in_seconds) < 0.009:\n",
    "         thi_voltage = voltage[index]\n",
    "    else:\n",
    "        this_voltage = (voltage[index] - d.getAIN(0))/(t[index] - time_in_seconds) * time_passed + this_voltage\n",
    "    data_t = data_t + [(this_time - start_time).total_seconds()]\n",
    "    data_v = data_v + [d.getAIN(0)]\n",
    "    \n",
    "    d.writeRegister(5000, this_voltage)  \n",
    "    if index < (len(t)) and time_in_seconds > t[index]:\n",
    "        index = index + 1\n",
    "    time.sleep(0.009)\n",
    "    if time_in_seconds > p:\n",
    "        sys.stdout.write('\\r'+'Time = %.2fs  Voltage = %.2fV  Current = %.2fA         ' %(time_in_seconds, 14*d.getAIN(3), 4*d.getAIN(2)))\n",
    "        p = p + 1  # 1 means time interval between data updates    \n"
   ]
  },
  {
   "cell_type": "code",
   "execution_count": null,
   "metadata": {},
   "outputs": [],
   "source": []
  }
 ],
 "metadata": {
  "kernelspec": {
   "display_name": "Python 2",
   "language": "python",
   "name": "python2"
  },
  "language_info": {
   "codemirror_mode": {
    "name": "ipython",
    "version": 2
   },
   "file_extension": ".py",
   "mimetype": "text/x-python",
   "name": "python",
   "nbconvert_exporter": "python",
   "pygments_lexer": "ipython2",
   "version": "2.7.14"
  }
 },
 "nbformat": 4,
 "nbformat_minor": 2
}
